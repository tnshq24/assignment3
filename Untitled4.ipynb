{
 "cells": [
  {
   "cell_type": "code",
   "execution_count": 25,
   "id": "566e4306-72c7-4685-8ed2-428aa15f4679",
   "metadata": {},
   "outputs": [],
   "source": [
    "#Q1\n",
    "class vehicle:\n",
    "    \n",
    "    def __init__(self,name_of_vehicle, max_speed, average_of_vehicle):\n",
    "        self.name_of_vehicle = name_of_vehicle\n",
    "        self.max_speed = max_speed\n",
    "        self.average_of_vehicle = average_of_vehicle\n",
    "    \n",
    "        "
   ]
  },
  {
   "cell_type": "code",
   "execution_count": 3,
   "id": "5a852b05-ae29-4c66-a01b-a89a4a874081",
   "metadata": {},
   "outputs": [],
   "source": [
    "car1 = vehicle('alto',120,20)"
   ]
  },
  {
   "cell_type": "code",
   "execution_count": 4,
   "id": "485cfb08-efdb-4941-9e14-0f4d85dcce12",
   "metadata": {},
   "outputs": [
    {
     "data": {
      "text/plain": [
       "'alto'"
      ]
     },
     "execution_count": 4,
     "metadata": {},
     "output_type": "execute_result"
    }
   ],
   "source": [
    "car1.name_of_vehicle"
   ]
  },
  {
   "cell_type": "code",
   "execution_count": 35,
   "id": "746dcfe8-8090-4a18-bae5-966674e4226d",
   "metadata": {},
   "outputs": [],
   "source": [
    "#Q2\n",
    "class seating(vehicle):\n",
    "    def seating_capacity(self,seats):\n",
    "        self.seats = seats\n",
    "    \n",
    "    def get_seats(self):\n",
    "        return self.name_of_vehicle, self.seats"
   ]
  },
  {
   "cell_type": "code",
   "execution_count": 36,
   "id": "c6386648-f20b-4a40-939e-72ff201f39e9",
   "metadata": {},
   "outputs": [],
   "source": [
    "car1 = seating('alto',120,20)"
   ]
  },
  {
   "cell_type": "code",
   "execution_count": 37,
   "id": "96e2f442-82c8-43c4-9e44-5f32f154e74d",
   "metadata": {},
   "outputs": [],
   "source": [
    "car1.seating_capacity(5)"
   ]
  },
  {
   "cell_type": "code",
   "execution_count": 38,
   "id": "71dfb66a-d729-47fd-9aac-baf546e75d69",
   "metadata": {},
   "outputs": [
    {
     "data": {
      "text/plain": [
       "('alto', 5)"
      ]
     },
     "execution_count": 38,
     "metadata": {},
     "output_type": "execute_result"
    }
   ],
   "source": [
    "car1.get_seats()"
   ]
  },
  {
   "cell_type": "code",
   "execution_count": 2,
   "id": "86d6fe74-13f7-4931-b32e-43bfb1722e55",
   "metadata": {},
   "outputs": [],
   "source": [
    "#Q3\n",
    "class class1:\n",
    "    def test1(self):\n",
    "        print(\"This is Class 1.\")"
   ]
  },
  {
   "cell_type": "code",
   "execution_count": 3,
   "id": "80034424-b654-428f-aac6-82f27b57e5e8",
   "metadata": {},
   "outputs": [],
   "source": [
    "class class2:\n",
    "    def test2(self):\n",
    "        print(\"This is Class 2.\")\n"
   ]
  },
  {
   "cell_type": "code",
   "execution_count": 4,
   "id": "c412b49d-e553-48a8-b8e7-7b97c98866e5",
   "metadata": {},
   "outputs": [],
   "source": [
    "class class3(class1,class2):\n",
    "    pass"
   ]
  },
  {
   "cell_type": "code",
   "execution_count": 5,
   "id": "ab0a88c0-80df-4260-a8e2-c8716ceca81f",
   "metadata": {},
   "outputs": [],
   "source": [
    "demo = class3()"
   ]
  },
  {
   "cell_type": "code",
   "execution_count": null,
   "id": "f35b237f-3a09-4667-aef5-eddf0e0ef816",
   "metadata": {},
   "outputs": [],
   "source": [
    "demo.test1, demo.test2"
   ]
  },
  {
   "cell_type": "code",
   "execution_count": 8,
   "id": "007c1aa0-9f09-46b0-b272-7aa4282bf934",
   "metadata": {},
   "outputs": [],
   "source": [
    "#Q4\n",
    "class vehicle:\n",
    "    def __init__(self,model,make,top_speed):\n",
    "        self.model = model\n",
    "        self.make = make\n",
    "        self.top_speed = top_speed\n",
    "        \n",
    "    def set_top_speed(self,top_speed):\n",
    "        if top_speed<=0:\n",
    "            self.top_speed = 0\n",
    "        else:\n",
    "            self.top_speed = top_speed\n",
    "    \n",
    "    def get_top_speed(self):\n",
    "        return self.top_speed"
   ]
  },
  {
   "cell_type": "code",
   "execution_count": 9,
   "id": "4fd0db56-5a14-4f36-8aad-a49c90be7b54",
   "metadata": {},
   "outputs": [],
   "source": [
    "creta = vehicle(\"E\",2019,140)"
   ]
  },
  {
   "cell_type": "code",
   "execution_count": 10,
   "id": "9937d9ad-fbe5-4ea1-84d2-002e20c2d398",
   "metadata": {},
   "outputs": [],
   "source": [
    "creta.set_top_speed(-160)"
   ]
  },
  {
   "cell_type": "code",
   "execution_count": 11,
   "id": "f55a46f1-cff1-4ded-af4b-356081030096",
   "metadata": {},
   "outputs": [
    {
     "data": {
      "text/plain": [
       "0"
      ]
     },
     "execution_count": 11,
     "metadata": {},
     "output_type": "execute_result"
    }
   ],
   "source": [
    "creta.get_top_speed()"
   ]
  },
  {
   "cell_type": "code",
   "execution_count": 12,
   "id": "f2426be1-9e62-4ce1-8568-f833d79ada70",
   "metadata": {},
   "outputs": [],
   "source": [
    "creta.set_top_speed(160)"
   ]
  },
  {
   "cell_type": "code",
   "execution_count": 13,
   "id": "9a0f4dfd-b024-412c-a6c7-3c3e6ef6b972",
   "metadata": {},
   "outputs": [
    {
     "data": {
      "text/plain": [
       "160"
      ]
     },
     "execution_count": 13,
     "metadata": {},
     "output_type": "execute_result"
    }
   ],
   "source": [
    "creta.get_top_speed()"
   ]
  },
  {
   "cell_type": "code",
   "execution_count": 14,
   "id": "999ccea2-d1bc-4be3-829c-bfd0fc35a5f2",
   "metadata": {},
   "outputs": [],
   "source": [
    "#Q5\n",
    "'''Method overTo override the method that is created by its parent class.'''\n",
    "\n",
    "class class1:\n",
    "    def __init__(self):\n",
    "        self.test1 = \"This is Class 1\"\n",
    "        \n",
    "class class2(class1):\n",
    "    def __init__(self):\n",
    "        self.test1 = \"This is Class 2\"\n",
    "        \n"
   ]
  },
  {
   "cell_type": "code",
   "execution_count": 15,
   "id": "84e8516f-f9b1-45e5-9718-1695ba7d1bfb",
   "metadata": {},
   "outputs": [],
   "source": [
    "obj1 = class1()\n",
    "obj2 = class2()"
   ]
  },
  {
   "cell_type": "code",
   "execution_count": 16,
   "id": "557be0f9-43b5-46be-80ba-4b9c14cc8e5c",
   "metadata": {},
   "outputs": [
    {
     "data": {
      "text/plain": [
       "'This is Class 1'"
      ]
     },
     "execution_count": 16,
     "metadata": {},
     "output_type": "execute_result"
    }
   ],
   "source": [
    "obj1.test1"
   ]
  },
  {
   "cell_type": "code",
   "execution_count": 17,
   "id": "dfe6e999-2009-437e-b786-913d3098920d",
   "metadata": {},
   "outputs": [
    {
     "data": {
      "text/plain": [
       "'This is Class 2'"
      ]
     },
     "execution_count": 17,
     "metadata": {},
     "output_type": "execute_result"
    }
   ],
   "source": [
    "obj2.test1"
   ]
  },
  {
   "cell_type": "code",
   "execution_count": null,
   "id": "9cb3e029-f2f6-4785-8131-864bfc6d7038",
   "metadata": {},
   "outputs": [],
   "source": []
  }
 ],
 "metadata": {
  "kernelspec": {
   "display_name": "Python 3 (ipykernel)",
   "language": "python",
   "name": "python3"
  },
  "language_info": {
   "codemirror_mode": {
    "name": "ipython",
    "version": 3
   },
   "file_extension": ".py",
   "mimetype": "text/x-python",
   "name": "python",
   "nbconvert_exporter": "python",
   "pygments_lexer": "ipython3",
   "version": "3.10.8"
  }
 },
 "nbformat": 4,
 "nbformat_minor": 5
}
